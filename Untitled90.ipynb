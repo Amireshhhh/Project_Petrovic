{
 "cells": [
  {
   "cell_type": "code",
   "execution_count": 54,
   "id": "0f78e50b",
   "metadata": {},
   "outputs": [],
   "source": [
    "import yfinance as yf\n",
    "import pandas as pd\n",
    "import numpy as np\n",
    "import matplotlib.pyplot as plt\n",
    "\n",
    "from scipy import stats\n"
   ]
  },
  {
   "cell_type": "markdown",
   "id": "93a38fee",
   "metadata": {},
   "source": [
    "Data Collection and Preparation"
   ]
  },
  {
   "cell_type": "code",
   "execution_count": 69,
   "id": "c76b5a03",
   "metadata": {},
   "outputs": [],
   "source": [
    "list_of_tickers=[\n",
    "\"AAPL\",\n",
    "\"QQQ\",\n",
    "\"XLV\", #healthcare\n",
    "\"XLP\", #consumer staples\n",
    "\"XLK\", #technology\n",
    "\"XLU\", #utilities\n",
    "\"XLE\", #energy                  \n",
    "\"^FTSE\", #UK market index,\n",
    "\"HSI\" ,# Hong Kong market                  \n",
    "\"DX-Y.NYB\", #US dollar                 \n",
    "\"XLF\" #financial  \n",
    "]\n",
    "\n"
   ]
  },
  {
   "cell_type": "code",
   "execution_count": 70,
   "id": "837c1baf",
   "metadata": {},
   "outputs": [],
   "source": [
    "start_date = \"1999-01-06\"\n",
    "end_date = \"2020-12-01\"\n",
    "\n"
   ]
  },
  {
   "cell_type": "code",
   "execution_count": 71,
   "id": "b6c72b22",
   "metadata": {},
   "outputs": [
    {
     "name": "stdout",
     "output_type": "stream",
     "text": [
      "[*********************100%***********************]  11 of 11 completed\n"
     ]
    }
   ],
   "source": [
    "pr=yf.download(list_of_tickers,start_date,end_date)\n"
   ]
  },
  {
   "cell_type": "code",
   "execution_count": 82,
   "id": "0e540c48",
   "metadata": {},
   "outputs": [
    {
     "data": {
      "text/html": [
       "<div>\n",
       "<style scoped>\n",
       "    .dataframe tbody tr th:only-of-type {\n",
       "        vertical-align: middle;\n",
       "    }\n",
       "\n",
       "    .dataframe tbody tr th {\n",
       "        vertical-align: top;\n",
       "    }\n",
       "\n",
       "    .dataframe thead tr th {\n",
       "        text-align: left;\n",
       "    }\n",
       "\n",
       "    .dataframe thead tr:last-of-type th {\n",
       "        text-align: right;\n",
       "    }\n",
       "</style>\n",
       "<table border=\"1\" class=\"dataframe\">\n",
       "  <thead>\n",
       "    <tr>\n",
       "      <th></th>\n",
       "      <th colspan=\"10\" halign=\"left\">Adj Close</th>\n",
       "      <th>...</th>\n",
       "      <th colspan=\"10\" halign=\"left\">Volume</th>\n",
       "    </tr>\n",
       "    <tr>\n",
       "      <th></th>\n",
       "      <th>AAPL</th>\n",
       "      <th>DX-Y.NYB</th>\n",
       "      <th>HSI</th>\n",
       "      <th>QQQ</th>\n",
       "      <th>XLE</th>\n",
       "      <th>XLF</th>\n",
       "      <th>XLK</th>\n",
       "      <th>XLP</th>\n",
       "      <th>XLU</th>\n",
       "      <th>XLV</th>\n",
       "      <th>...</th>\n",
       "      <th>DX-Y.NYB</th>\n",
       "      <th>HSI</th>\n",
       "      <th>QQQ</th>\n",
       "      <th>XLE</th>\n",
       "      <th>XLF</th>\n",
       "      <th>XLK</th>\n",
       "      <th>XLP</th>\n",
       "      <th>XLU</th>\n",
       "      <th>XLV</th>\n",
       "      <th>^FTSE</th>\n",
       "    </tr>\n",
       "    <tr>\n",
       "      <th>Date</th>\n",
       "      <th></th>\n",
       "      <th></th>\n",
       "      <th></th>\n",
       "      <th></th>\n",
       "      <th></th>\n",
       "      <th></th>\n",
       "      <th></th>\n",
       "      <th></th>\n",
       "      <th></th>\n",
       "      <th></th>\n",
       "      <th></th>\n",
       "      <th></th>\n",
       "      <th></th>\n",
       "      <th></th>\n",
       "      <th></th>\n",
       "      <th></th>\n",
       "      <th></th>\n",
       "      <th></th>\n",
       "      <th></th>\n",
       "      <th></th>\n",
       "      <th></th>\n",
       "    </tr>\n",
       "  </thead>\n",
       "  <tbody>\n",
       "    <tr>\n",
       "      <th>1999-01-06</th>\n",
       "      <td>0.317270</td>\n",
       "      <td>94.529999</td>\n",
       "      <td>10233.799805</td>\n",
       "      <td>NaN</td>\n",
       "      <td>13.032797</td>\n",
       "      <td>12.266915</td>\n",
       "      <td>26.470566</td>\n",
       "      <td>15.730736</td>\n",
       "      <td>13.041305</td>\n",
       "      <td>18.884003</td>\n",
       "      <td>...</td>\n",
       "      <td>0.0</td>\n",
       "      <td>0.0</td>\n",
       "      <td>NaN</td>\n",
       "      <td>56400.0</td>\n",
       "      <td>129871.0</td>\n",
       "      <td>624700.0</td>\n",
       "      <td>118500.0</td>\n",
       "      <td>41000.0</td>\n",
       "      <td>38500.0</td>\n",
       "      <td>9.038480e+08</td>\n",
       "    </tr>\n",
       "    <tr>\n",
       "      <th>1999-01-07</th>\n",
       "      <td>0.341967</td>\n",
       "      <td>93.720001</td>\n",
       "      <td>10693.599609</td>\n",
       "      <td>NaN</td>\n",
       "      <td>12.973322</td>\n",
       "      <td>12.455389</td>\n",
       "      <td>26.387489</td>\n",
       "      <td>15.551775</td>\n",
       "      <td>12.994416</td>\n",
       "      <td>18.795860</td>\n",
       "      <td>...</td>\n",
       "      <td>0.0</td>\n",
       "      <td>0.0</td>\n",
       "      <td>NaN</td>\n",
       "      <td>72600.0</td>\n",
       "      <td>89986.0</td>\n",
       "      <td>534600.0</td>\n",
       "      <td>43500.0</td>\n",
       "      <td>222300.0</td>\n",
       "      <td>15900.0</td>\n",
       "      <td>6.501240e+08</td>\n",
       "    </tr>\n",
       "    <tr>\n",
       "      <th>1999-01-08</th>\n",
       "      <td>0.341967</td>\n",
       "      <td>94.349998</td>\n",
       "      <td>10922.700195</td>\n",
       "      <td>NaN</td>\n",
       "      <td>13.032797</td>\n",
       "      <td>12.533921</td>\n",
       "      <td>26.494308</td>\n",
       "      <td>15.489138</td>\n",
       "      <td>13.068098</td>\n",
       "      <td>19.027227</td>\n",
       "      <td>...</td>\n",
       "      <td>0.0</td>\n",
       "      <td>0.0</td>\n",
       "      <td>NaN</td>\n",
       "      <td>421100.0</td>\n",
       "      <td>173694.0</td>\n",
       "      <td>532800.0</td>\n",
       "      <td>63800.0</td>\n",
       "      <td>135900.0</td>\n",
       "      <td>24400.0</td>\n",
       "      <td>5.596120e+08</td>\n",
       "    </tr>\n",
       "    <tr>\n",
       "      <th>1999-01-11</th>\n",
       "      <td>0.348616</td>\n",
       "      <td>94.660004</td>\n",
       "      <td>7.470000</td>\n",
       "      <td>NaN</td>\n",
       "      <td>12.786412</td>\n",
       "      <td>12.345448</td>\n",
       "      <td>26.755447</td>\n",
       "      <td>15.175944</td>\n",
       "      <td>12.719794</td>\n",
       "      <td>19.071306</td>\n",
       "      <td>...</td>\n",
       "      <td>0.0</td>\n",
       "      <td>140482.0</td>\n",
       "      <td>NaN</td>\n",
       "      <td>35000.0</td>\n",
       "      <td>62904.0</td>\n",
       "      <td>497900.0</td>\n",
       "      <td>65400.0</td>\n",
       "      <td>129000.0</td>\n",
       "      <td>7700.0</td>\n",
       "      <td>4.101370e+08</td>\n",
       "    </tr>\n",
       "    <tr>\n",
       "      <th>1999-01-12</th>\n",
       "      <td>0.350516</td>\n",
       "      <td>94.790001</td>\n",
       "      <td>8.060000</td>\n",
       "      <td>NaN</td>\n",
       "      <td>12.591001</td>\n",
       "      <td>11.999901</td>\n",
       "      <td>26.031376</td>\n",
       "      <td>15.059628</td>\n",
       "      <td>12.726492</td>\n",
       "      <td>18.994181</td>\n",
       "      <td>...</td>\n",
       "      <td>0.0</td>\n",
       "      <td>169830.0</td>\n",
       "      <td>NaN</td>\n",
       "      <td>89200.0</td>\n",
       "      <td>117437.0</td>\n",
       "      <td>486000.0</td>\n",
       "      <td>29400.0</td>\n",
       "      <td>7100.0</td>\n",
       "      <td>270700.0</td>\n",
       "      <td>5.650130e+08</td>\n",
       "    </tr>\n",
       "    <tr>\n",
       "      <th>...</th>\n",
       "      <td>...</td>\n",
       "      <td>...</td>\n",
       "      <td>...</td>\n",
       "      <td>...</td>\n",
       "      <td>...</td>\n",
       "      <td>...</td>\n",
       "      <td>...</td>\n",
       "      <td>...</td>\n",
       "      <td>...</td>\n",
       "      <td>...</td>\n",
       "      <td>...</td>\n",
       "      <td>...</td>\n",
       "      <td>...</td>\n",
       "      <td>...</td>\n",
       "      <td>...</td>\n",
       "      <td>...</td>\n",
       "      <td>...</td>\n",
       "      <td>...</td>\n",
       "      <td>...</td>\n",
       "      <td>...</td>\n",
       "      <td>...</td>\n",
       "    </tr>\n",
       "    <tr>\n",
       "      <th>2020-11-24</th>\n",
       "      <td>113.630356</td>\n",
       "      <td>92.230003</td>\n",
       "      <td>26588.199219</td>\n",
       "      <td>289.938995</td>\n",
       "      <td>36.071590</td>\n",
       "      <td>27.303305</td>\n",
       "      <td>119.113426</td>\n",
       "      <td>62.838226</td>\n",
       "      <td>59.539104</td>\n",
       "      <td>104.767395</td>\n",
       "      <td>...</td>\n",
       "      <td>0.0</td>\n",
       "      <td>0.0</td>\n",
       "      <td>24516800.0</td>\n",
       "      <td>53466000.0</td>\n",
       "      <td>60983200.0</td>\n",
       "      <td>6817000.0</td>\n",
       "      <td>6064900.0</td>\n",
       "      <td>10903500.0</td>\n",
       "      <td>9615900.0</td>\n",
       "      <td>1.301561e+09</td>\n",
       "    </tr>\n",
       "    <tr>\n",
       "      <th>2020-11-25</th>\n",
       "      <td>114.478859</td>\n",
       "      <td>91.989998</td>\n",
       "      <td>26669.800781</td>\n",
       "      <td>291.721191</td>\n",
       "      <td>35.230427</td>\n",
       "      <td>27.208035</td>\n",
       "      <td>119.367790</td>\n",
       "      <td>62.800690</td>\n",
       "      <td>59.696686</td>\n",
       "      <td>104.382370</td>\n",
       "      <td>...</td>\n",
       "      <td>0.0</td>\n",
       "      <td>0.0</td>\n",
       "      <td>23326800.0</td>\n",
       "      <td>35676200.0</td>\n",
       "      <td>45204600.0</td>\n",
       "      <td>6093200.0</td>\n",
       "      <td>5245400.0</td>\n",
       "      <td>11492600.0</td>\n",
       "      <td>11671800.0</td>\n",
       "      <td>1.129314e+09</td>\n",
       "    </tr>\n",
       "    <tr>\n",
       "      <th>2020-11-26</th>\n",
       "      <td>NaN</td>\n",
       "      <td>NaN</td>\n",
       "      <td>NaN</td>\n",
       "      <td>NaN</td>\n",
       "      <td>NaN</td>\n",
       "      <td>NaN</td>\n",
       "      <td>NaN</td>\n",
       "      <td>NaN</td>\n",
       "      <td>NaN</td>\n",
       "      <td>NaN</td>\n",
       "      <td>...</td>\n",
       "      <td>NaN</td>\n",
       "      <td>NaN</td>\n",
       "      <td>NaN</td>\n",
       "      <td>NaN</td>\n",
       "      <td>NaN</td>\n",
       "      <td>NaN</td>\n",
       "      <td>NaN</td>\n",
       "      <td>NaN</td>\n",
       "      <td>NaN</td>\n",
       "      <td>7.362725e+08</td>\n",
       "    </tr>\n",
       "    <tr>\n",
       "      <th>2020-11-27</th>\n",
       "      <td>115.031372</td>\n",
       "      <td>91.790001</td>\n",
       "      <td>26894.699219</td>\n",
       "      <td>294.409210</td>\n",
       "      <td>34.818790</td>\n",
       "      <td>27.122292</td>\n",
       "      <td>120.003716</td>\n",
       "      <td>62.791302</td>\n",
       "      <td>59.103424</td>\n",
       "      <td>105.344955</td>\n",
       "      <td>...</td>\n",
       "      <td>0.0</td>\n",
       "      <td>0.0</td>\n",
       "      <td>17163100.0</td>\n",
       "      <td>18755400.0</td>\n",
       "      <td>26981200.0</td>\n",
       "      <td>3512900.0</td>\n",
       "      <td>3228600.0</td>\n",
       "      <td>6036600.0</td>\n",
       "      <td>4443900.0</td>\n",
       "      <td>1.448128e+09</td>\n",
       "    </tr>\n",
       "    <tr>\n",
       "      <th>2020-11-30</th>\n",
       "      <td>117.458504</td>\n",
       "      <td>91.870003</td>\n",
       "      <td>26341.500000</td>\n",
       "      <td>295.009735</td>\n",
       "      <td>32.894855</td>\n",
       "      <td>26.560226</td>\n",
       "      <td>120.805962</td>\n",
       "      <td>62.781929</td>\n",
       "      <td>58.250618</td>\n",
       "      <td>105.633713</td>\n",
       "      <td>...</td>\n",
       "      <td>0.0</td>\n",
       "      <td>0.0</td>\n",
       "      <td>27836200.0</td>\n",
       "      <td>41543600.0</td>\n",
       "      <td>72524200.0</td>\n",
       "      <td>16114600.0</td>\n",
       "      <td>11581900.0</td>\n",
       "      <td>13444700.0</td>\n",
       "      <td>12723400.0</td>\n",
       "      <td>1.355075e+09</td>\n",
       "    </tr>\n",
       "  </tbody>\n",
       "</table>\n",
       "<p>5635 rows × 66 columns</p>\n",
       "</div>"
      ],
      "text/plain": [
       "             Adj Close                                                  \\\n",
       "                  AAPL   DX-Y.NYB           HSI         QQQ        XLE   \n",
       "Date                                                                     \n",
       "1999-01-06    0.317270  94.529999  10233.799805         NaN  13.032797   \n",
       "1999-01-07    0.341967  93.720001  10693.599609         NaN  12.973322   \n",
       "1999-01-08    0.341967  94.349998  10922.700195         NaN  13.032797   \n",
       "1999-01-11    0.348616  94.660004      7.470000         NaN  12.786412   \n",
       "1999-01-12    0.350516  94.790001      8.060000         NaN  12.591001   \n",
       "...                ...        ...           ...         ...        ...   \n",
       "2020-11-24  113.630356  92.230003  26588.199219  289.938995  36.071590   \n",
       "2020-11-25  114.478859  91.989998  26669.800781  291.721191  35.230427   \n",
       "2020-11-26         NaN        NaN           NaN         NaN        NaN   \n",
       "2020-11-27  115.031372  91.790001  26894.699219  294.409210  34.818790   \n",
       "2020-11-30  117.458504  91.870003  26341.500000  295.009735  32.894855   \n",
       "\n",
       "                                                                     ...  \\\n",
       "                  XLF         XLK        XLP        XLU         XLV  ...   \n",
       "Date                                                                 ...   \n",
       "1999-01-06  12.266915   26.470566  15.730736  13.041305   18.884003  ...   \n",
       "1999-01-07  12.455389   26.387489  15.551775  12.994416   18.795860  ...   \n",
       "1999-01-08  12.533921   26.494308  15.489138  13.068098   19.027227  ...   \n",
       "1999-01-11  12.345448   26.755447  15.175944  12.719794   19.071306  ...   \n",
       "1999-01-12  11.999901   26.031376  15.059628  12.726492   18.994181  ...   \n",
       "...               ...         ...        ...        ...         ...  ...   \n",
       "2020-11-24  27.303305  119.113426  62.838226  59.539104  104.767395  ...   \n",
       "2020-11-25  27.208035  119.367790  62.800690  59.696686  104.382370  ...   \n",
       "2020-11-26        NaN         NaN        NaN        NaN         NaN  ...   \n",
       "2020-11-27  27.122292  120.003716  62.791302  59.103424  105.344955  ...   \n",
       "2020-11-30  26.560226  120.805962  62.781929  58.250618  105.633713  ...   \n",
       "\n",
       "             Volume                                                            \\\n",
       "           DX-Y.NYB       HSI         QQQ         XLE         XLF         XLK   \n",
       "Date                                                                            \n",
       "1999-01-06      0.0       0.0         NaN     56400.0    129871.0    624700.0   \n",
       "1999-01-07      0.0       0.0         NaN     72600.0     89986.0    534600.0   \n",
       "1999-01-08      0.0       0.0         NaN    421100.0    173694.0    532800.0   \n",
       "1999-01-11      0.0  140482.0         NaN     35000.0     62904.0    497900.0   \n",
       "1999-01-12      0.0  169830.0         NaN     89200.0    117437.0    486000.0   \n",
       "...             ...       ...         ...         ...         ...         ...   \n",
       "2020-11-24      0.0       0.0  24516800.0  53466000.0  60983200.0   6817000.0   \n",
       "2020-11-25      0.0       0.0  23326800.0  35676200.0  45204600.0   6093200.0   \n",
       "2020-11-26      NaN       NaN         NaN         NaN         NaN         NaN   \n",
       "2020-11-27      0.0       0.0  17163100.0  18755400.0  26981200.0   3512900.0   \n",
       "2020-11-30      0.0       0.0  27836200.0  41543600.0  72524200.0  16114600.0   \n",
       "\n",
       "                                                              \n",
       "                   XLP         XLU         XLV         ^FTSE  \n",
       "Date                                                          \n",
       "1999-01-06    118500.0     41000.0     38500.0  9.038480e+08  \n",
       "1999-01-07     43500.0    222300.0     15900.0  6.501240e+08  \n",
       "1999-01-08     63800.0    135900.0     24400.0  5.596120e+08  \n",
       "1999-01-11     65400.0    129000.0      7700.0  4.101370e+08  \n",
       "1999-01-12     29400.0      7100.0    270700.0  5.650130e+08  \n",
       "...                ...         ...         ...           ...  \n",
       "2020-11-24   6064900.0  10903500.0   9615900.0  1.301561e+09  \n",
       "2020-11-25   5245400.0  11492600.0  11671800.0  1.129314e+09  \n",
       "2020-11-26         NaN         NaN         NaN  7.362725e+08  \n",
       "2020-11-27   3228600.0   6036600.0   4443900.0  1.448128e+09  \n",
       "2020-11-30  11581900.0  13444700.0  12723400.0  1.355075e+09  \n",
       "\n",
       "[5635 rows x 66 columns]"
      ]
     },
     "execution_count": 82,
     "metadata": {},
     "output_type": "execute_result"
    }
   ],
   "source": []
  },
  {
   "cell_type": "code",
   "execution_count": 83,
   "id": "d43dcdf4",
   "metadata": {
    "scrolled": true
   },
   "outputs": [],
   "source": [
    "pr2=pr[\"Adj Close\"]"
   ]
  },
  {
   "cell_type": "code",
   "execution_count": 84,
   "id": "b7aab2f9",
   "metadata": {},
   "outputs": [],
   "source": [
    "df=pd.DataFrame(pr2)\n"
   ]
  },
  {
   "cell_type": "code",
   "execution_count": 85,
   "id": "7286f90e",
   "metadata": {},
   "outputs": [],
   "source": [
    "df_test=df.iloc[:200,]"
   ]
  },
  {
   "cell_type": "code",
   "execution_count": 86,
   "id": "3eb8ea06",
   "metadata": {},
   "outputs": [
    {
     "data": {
      "text/html": [
       "<div>\n",
       "<style scoped>\n",
       "    .dataframe tbody tr th:only-of-type {\n",
       "        vertical-align: middle;\n",
       "    }\n",
       "\n",
       "    .dataframe tbody tr th {\n",
       "        vertical-align: top;\n",
       "    }\n",
       "\n",
       "    .dataframe thead th {\n",
       "        text-align: right;\n",
       "    }\n",
       "</style>\n",
       "<table border=\"1\" class=\"dataframe\">\n",
       "  <thead>\n",
       "    <tr style=\"text-align: right;\">\n",
       "      <th></th>\n",
       "      <th>AAPL</th>\n",
       "      <th>DX-Y.NYB</th>\n",
       "      <th>HSI</th>\n",
       "      <th>QQQ</th>\n",
       "      <th>XLE</th>\n",
       "      <th>XLF</th>\n",
       "      <th>XLK</th>\n",
       "      <th>XLP</th>\n",
       "      <th>XLU</th>\n",
       "      <th>XLV</th>\n",
       "      <th>^FTSE</th>\n",
       "    </tr>\n",
       "    <tr>\n",
       "      <th>Date</th>\n",
       "      <th></th>\n",
       "      <th></th>\n",
       "      <th></th>\n",
       "      <th></th>\n",
       "      <th></th>\n",
       "      <th></th>\n",
       "      <th></th>\n",
       "      <th></th>\n",
       "      <th></th>\n",
       "      <th></th>\n",
       "      <th></th>\n",
       "    </tr>\n",
       "  </thead>\n",
       "  <tbody>\n",
       "    <tr>\n",
       "      <th>1999-01-06</th>\n",
       "      <td>0.317270</td>\n",
       "      <td>94.529999</td>\n",
       "      <td>10233.799805</td>\n",
       "      <td>NaN</td>\n",
       "      <td>13.032797</td>\n",
       "      <td>12.266915</td>\n",
       "      <td>26.470566</td>\n",
       "      <td>15.730736</td>\n",
       "      <td>13.041305</td>\n",
       "      <td>18.884003</td>\n",
       "      <td>6148.799805</td>\n",
       "    </tr>\n",
       "    <tr>\n",
       "      <th>1999-01-07</th>\n",
       "      <td>0.341967</td>\n",
       "      <td>93.720001</td>\n",
       "      <td>10693.599609</td>\n",
       "      <td>NaN</td>\n",
       "      <td>12.973322</td>\n",
       "      <td>12.455389</td>\n",
       "      <td>26.387489</td>\n",
       "      <td>15.551775</td>\n",
       "      <td>12.994416</td>\n",
       "      <td>18.795860</td>\n",
       "      <td>6101.200195</td>\n",
       "    </tr>\n",
       "    <tr>\n",
       "      <th>1999-01-08</th>\n",
       "      <td>0.341967</td>\n",
       "      <td>94.349998</td>\n",
       "      <td>10922.700195</td>\n",
       "      <td>NaN</td>\n",
       "      <td>13.032797</td>\n",
       "      <td>12.533921</td>\n",
       "      <td>26.494308</td>\n",
       "      <td>15.489138</td>\n",
       "      <td>13.068098</td>\n",
       "      <td>19.027227</td>\n",
       "      <td>6147.200195</td>\n",
       "    </tr>\n",
       "    <tr>\n",
       "      <th>1999-01-11</th>\n",
       "      <td>0.348616</td>\n",
       "      <td>94.660004</td>\n",
       "      <td>7.470000</td>\n",
       "      <td>NaN</td>\n",
       "      <td>12.786412</td>\n",
       "      <td>12.345448</td>\n",
       "      <td>26.755447</td>\n",
       "      <td>15.175944</td>\n",
       "      <td>12.719794</td>\n",
       "      <td>19.071306</td>\n",
       "      <td>6085.000000</td>\n",
       "    </tr>\n",
       "    <tr>\n",
       "      <th>1999-01-12</th>\n",
       "      <td>0.350516</td>\n",
       "      <td>94.790001</td>\n",
       "      <td>8.060000</td>\n",
       "      <td>NaN</td>\n",
       "      <td>12.591001</td>\n",
       "      <td>11.999901</td>\n",
       "      <td>26.031376</td>\n",
       "      <td>15.059628</td>\n",
       "      <td>12.726492</td>\n",
       "      <td>18.994181</td>\n",
       "      <td>6033.600098</td>\n",
       "    </tr>\n",
       "    <tr>\n",
       "      <th>...</th>\n",
       "      <td>...</td>\n",
       "      <td>...</td>\n",
       "      <td>...</td>\n",
       "      <td>...</td>\n",
       "      <td>...</td>\n",
       "      <td>...</td>\n",
       "      <td>...</td>\n",
       "      <td>...</td>\n",
       "      <td>...</td>\n",
       "      <td>...</td>\n",
       "      <td>...</td>\n",
       "    </tr>\n",
       "    <tr>\n",
       "      <th>1999-10-08</th>\n",
       "      <td>0.498227</td>\n",
       "      <td>99.019997</td>\n",
       "      <td>21.719999</td>\n",
       "      <td>54.737644</td>\n",
       "      <td>14.384891</td>\n",
       "      <td>11.788595</td>\n",
       "      <td>32.298843</td>\n",
       "      <td>14.125426</td>\n",
       "      <td>12.905720</td>\n",
       "      <td>19.379791</td>\n",
       "      <td>6199.399902</td>\n",
       "    </tr>\n",
       "    <tr>\n",
       "      <th>1999-10-11</th>\n",
       "      <td>0.506776</td>\n",
       "      <td>98.769997</td>\n",
       "      <td>12992.700195</td>\n",
       "      <td>55.508965</td>\n",
       "      <td>14.600102</td>\n",
       "      <td>11.661839</td>\n",
       "      <td>32.619328</td>\n",
       "      <td>14.143469</td>\n",
       "      <td>12.823692</td>\n",
       "      <td>19.324709</td>\n",
       "      <td>6234.799805</td>\n",
       "    </tr>\n",
       "    <tr>\n",
       "      <th>1999-10-12</th>\n",
       "      <td>0.514376</td>\n",
       "      <td>97.949997</td>\n",
       "      <td>12759.299805</td>\n",
       "      <td>54.248005</td>\n",
       "      <td>14.677570</td>\n",
       "      <td>11.440009</td>\n",
       "      <td>32.037693</td>\n",
       "      <td>13.872864</td>\n",
       "      <td>12.570770</td>\n",
       "      <td>18.994181</td>\n",
       "      <td>6174.899902</td>\n",
       "    </tr>\n",
       "    <tr>\n",
       "      <th>1999-10-13</th>\n",
       "      <td>0.486591</td>\n",
       "      <td>97.889999</td>\n",
       "      <td>12475.900391</td>\n",
       "      <td>52.638271</td>\n",
       "      <td>14.772271</td>\n",
       "      <td>11.099344</td>\n",
       "      <td>31.194910</td>\n",
       "      <td>13.602263</td>\n",
       "      <td>12.686979</td>\n",
       "      <td>18.575514</td>\n",
       "      <td>6113.399902</td>\n",
       "    </tr>\n",
       "    <tr>\n",
       "      <th>1999-10-14</th>\n",
       "      <td>0.556172</td>\n",
       "      <td>97.919998</td>\n",
       "      <td>12486.799805</td>\n",
       "      <td>52.966930</td>\n",
       "      <td>14.720617</td>\n",
       "      <td>11.083498</td>\n",
       "      <td>31.016851</td>\n",
       "      <td>13.638343</td>\n",
       "      <td>12.769008</td>\n",
       "      <td>18.509409</td>\n",
       "      <td>6039.399902</td>\n",
       "    </tr>\n",
       "  </tbody>\n",
       "</table>\n",
       "<p>200 rows × 11 columns</p>\n",
       "</div>"
      ],
      "text/plain": [
       "                AAPL   DX-Y.NYB           HSI        QQQ        XLE  \\\n",
       "Date                                                                  \n",
       "1999-01-06  0.317270  94.529999  10233.799805        NaN  13.032797   \n",
       "1999-01-07  0.341967  93.720001  10693.599609        NaN  12.973322   \n",
       "1999-01-08  0.341967  94.349998  10922.700195        NaN  13.032797   \n",
       "1999-01-11  0.348616  94.660004      7.470000        NaN  12.786412   \n",
       "1999-01-12  0.350516  94.790001      8.060000        NaN  12.591001   \n",
       "...              ...        ...           ...        ...        ...   \n",
       "1999-10-08  0.498227  99.019997     21.719999  54.737644  14.384891   \n",
       "1999-10-11  0.506776  98.769997  12992.700195  55.508965  14.600102   \n",
       "1999-10-12  0.514376  97.949997  12759.299805  54.248005  14.677570   \n",
       "1999-10-13  0.486591  97.889999  12475.900391  52.638271  14.772271   \n",
       "1999-10-14  0.556172  97.919998  12486.799805  52.966930  14.720617   \n",
       "\n",
       "                  XLF        XLK        XLP        XLU        XLV        ^FTSE  \n",
       "Date                                                                            \n",
       "1999-01-06  12.266915  26.470566  15.730736  13.041305  18.884003  6148.799805  \n",
       "1999-01-07  12.455389  26.387489  15.551775  12.994416  18.795860  6101.200195  \n",
       "1999-01-08  12.533921  26.494308  15.489138  13.068098  19.027227  6147.200195  \n",
       "1999-01-11  12.345448  26.755447  15.175944  12.719794  19.071306  6085.000000  \n",
       "1999-01-12  11.999901  26.031376  15.059628  12.726492  18.994181  6033.600098  \n",
       "...               ...        ...        ...        ...        ...          ...  \n",
       "1999-10-08  11.788595  32.298843  14.125426  12.905720  19.379791  6199.399902  \n",
       "1999-10-11  11.661839  32.619328  14.143469  12.823692  19.324709  6234.799805  \n",
       "1999-10-12  11.440009  32.037693  13.872864  12.570770  18.994181  6174.899902  \n",
       "1999-10-13  11.099344  31.194910  13.602263  12.686979  18.575514  6113.399902  \n",
       "1999-10-14  11.083498  31.016851  13.638343  12.769008  18.509409  6039.399902  \n",
       "\n",
       "[200 rows x 11 columns]"
      ]
     },
     "execution_count": 86,
     "metadata": {},
     "output_type": "execute_result"
    }
   ],
   "source": [
    "df_test"
   ]
  },
  {
   "cell_type": "code",
   "execution_count": 78,
   "id": "d8c061c0",
   "metadata": {},
   "outputs": [],
   "source": [
    "\n",
    "#df.to_csv(\"/Users/amirreza/Desktop/project_data.csv\", index=False)"
   ]
  },
  {
   "cell_type": "code",
   "execution_count": 61,
   "id": "77b0f319",
   "metadata": {},
   "outputs": [
    {
     "name": "stdout",
     "output_type": "stream",
     "text": [
      "[*********************100%***********************]  1 of 1 completed\n",
      "[*********************100%***********************]  1 of 1 completed\n",
      "[*********************100%***********************]  1 of 1 completed\n",
      "[*********************100%***********************]  1 of 1 completed\n",
      "[*********************100%***********************]  1 of 1 completed\n",
      "[*********************100%***********************]  1 of 1 completed\n",
      "[*********************100%***********************]  1 of 1 completed\n",
      "[*********************100%***********************]  1 of 1 completed\n",
      "[*********************100%***********************]  1 of 1 completed\n"
     ]
    }
   ],
   "source": [
    "price=pd.DataFrame()\n",
    "pr2=[]\n",
    "for i in list_of_tickers:\n",
    "    \n",
    "    pr=yf.download(i,start_date,end_date)\n",
    "    pr2.append(pr[\"Adj Close\"].values)\n",
    "    \n",
    "    "
   ]
  },
  {
   "cell_type": "code",
   "execution_count": 62,
   "id": "b886a9b0",
   "metadata": {},
   "outputs": [],
   "source": [
    "from scipy.stats import shapiro"
   ]
  },
  {
   "cell_type": "code",
   "execution_count": 63,
   "id": "13881abf",
   "metadata": {},
   "outputs": [
    {
     "name": "stdout",
     "output_type": "stream",
     "text": [
      "ShapiroResult(statistic=0.7336024641990662, pvalue=0.0)\n",
      "ShapiroResult(statistic=0.8076604604721069, pvalue=0.0)\n",
      "ShapiroResult(statistic=0.789547860622406, pvalue=0.0)\n",
      "ShapiroResult(statistic=0.8385316133499146, pvalue=0.0)\n",
      "ShapiroResult(statistic=0.7971153259277344, pvalue=0.0)\n",
      "ShapiroResult(statistic=0.8957108855247498, pvalue=0.0)\n",
      "ShapiroResult(statistic=0.9277603626251221, pvalue=1.401298464324817e-45)\n",
      "ShapiroResult(statistic=0.957582950592041, pvalue=2.0089005816250406e-37)\n",
      "ShapiroResult(statistic=0.9692293405532837, pvalue=8.555404372970062e-33)\n"
     ]
    },
    {
     "name": "stderr",
     "output_type": "stream",
     "text": [
      "/opt/anaconda3/lib/python3.9/site-packages/scipy/stats/morestats.py:1760: UserWarning: p-value may not be accurate for N > 5000.\n",
      "  warnings.warn(\"p-value may not be accurate for N > 5000.\")\n"
     ]
    }
   ],
   "source": [
    "for i in range(len(pr2)):\n",
    "    print(shapiro(pr2[i]))"
   ]
  },
  {
   "cell_type": "code",
   "execution_count": 49,
   "id": "1b589dec",
   "metadata": {},
   "outputs": [],
   "source": [
    "from scipy.stats import kstest"
   ]
  },
  {
   "cell_type": "code",
   "execution_count": 50,
   "id": "90a21ca2",
   "metadata": {},
   "outputs": [
    {
     "data": {
      "text/plain": [
       "KstestResult(statistic=0.5966173672161983, pvalue=2.2662455678459448e-164)"
      ]
     },
     "execution_count": 50,
     "metadata": {},
     "output_type": "execute_result"
    }
   ],
   "source": [
    "kstest(pr2[0],'norm')"
   ]
  },
  {
   "cell_type": "code",
   "execution_count": 4,
   "id": "f31f3cb1",
   "metadata": {},
   "outputs": [],
   "source": [
    "price=stock_data['Adj Close'].values\n",
    "price1= market[\"Adj Close\"].values\n",
    "price3= nasdaq[\"Adj Close\"].values"
   ]
  },
  {
   "cell_type": "code",
   "execution_count": 91,
   "id": "3aaa2e2f",
   "metadata": {},
   "outputs": [
    {
     "data": {
      "text/plain": [
       "Index(['AAPL', 'DX-Y.NYB', 'HSI', 'QQQ', 'XLE', 'XLF', 'XLK', 'XLP', 'XLU',\n",
       "       'XLV', '^FTSE'],\n",
       "      dtype='object')"
      ]
     },
     "execution_count": 91,
     "metadata": {},
     "output_type": "execute_result"
    }
   ],
   "source": [
    "df_test.columns"
   ]
  },
  {
   "cell_type": "code",
   "execution_count": 92,
   "id": "2073ba20",
   "metadata": {},
   "outputs": [],
   "source": [
    "import pingouin as pg\n",
    "\n",
    "result= pg.partial_corr(data=df_test, x='AAPL', y=\"XLE\", covar=\"DX-Y.NYB\", method='pearson')"
   ]
  },
  {
   "cell_type": "code",
   "execution_count": 93,
   "id": "ce7c476c",
   "metadata": {},
   "outputs": [
    {
     "name": "stdout",
     "output_type": "stream",
     "text": [
      "           n         r        CI95%         p-val\n",
      "pearson  196  0.762727  [0.7, 0.82]  2.202879e-38\n"
     ]
    }
   ],
   "source": [
    "print(result)"
   ]
  },
  {
   "cell_type": "code",
   "execution_count": 104,
   "id": "e32c3fec",
   "metadata": {},
   "outputs": [
    {
     "ename": "TypeError",
     "evalue": "Can't instantiate abstract class IndependenceTest with abstract methods _statistic, test",
     "output_type": "error",
     "traceback": [
      "\u001b[0;31m---------------------------------------------------------------------------\u001b[0m",
      "\u001b[0;31mTypeError\u001b[0m                                 Traceback (most recent call last)",
      "\u001b[0;32m/var/folders/sw/_yt0tfzj6wb08zxvbrdj6lcr0000gn/T/ipykernel_57857/1385649722.py\u001b[0m in \u001b[0;36m<module>\u001b[0;34m\u001b[0m\n\u001b[1;32m      1\u001b[0m \u001b[0;32mfrom\u001b[0m \u001b[0mmgc\u001b[0m\u001b[0;34m.\u001b[0m\u001b[0mindependence\u001b[0m \u001b[0;32mimport\u001b[0m \u001b[0mhsic\u001b[0m\u001b[0;34m\u001b[0m\u001b[0;34m\u001b[0m\u001b[0m\n\u001b[1;32m      2\u001b[0m \u001b[0;34m\u001b[0m\u001b[0m\n\u001b[0;32m----> 3\u001b[0;31m \u001b[0mp_val\u001b[0m\u001b[0;34m=\u001b[0m \u001b[0mhsic\u001b[0m\u001b[0;34m.\u001b[0m\u001b[0mIndependenceTest\u001b[0m\u001b[0;34m(\u001b[0m\u001b[0mdf_test\u001b[0m\u001b[0;34m[\u001b[0m\u001b[0;34m\"AAPL\"\u001b[0m\u001b[0;34m]\u001b[0m\u001b[0;34m,\u001b[0m\u001b[0mdf_test\u001b[0m\u001b[0;34m[\u001b[0m\u001b[0;34m\"XLE\"\u001b[0m\u001b[0;34m]\u001b[0m\u001b[0;34m,\u001b[0m\u001b[0mdf_test\u001b[0m\u001b[0;34m[\u001b[0m\u001b[0;34m\"DX-Y.NYB\"\u001b[0m\u001b[0;34m]\u001b[0m\u001b[0;34m)\u001b[0m\u001b[0;34m\u001b[0m\u001b[0;34m\u001b[0m\u001b[0m\n\u001b[0m",
      "\u001b[0;31mTypeError\u001b[0m: Can't instantiate abstract class IndependenceTest with abstract methods _statistic, test"
     ]
    }
   ],
   "source": [
    "\n",
    "from mgc.independence import hsic_\n",
    "p_val= hsic.IndependenceTest(df_test[\"AAPL\"],df_test[\"XLE\"],df_test[\"DX-Y.NYB\"])\n"
   ]
  },
  {
   "cell_type": "code",
   "execution_count": null,
   "id": "211304e7",
   "metadata": {},
   "outputs": [],
   "source": []
  },
  {
   "cell_type": "code",
   "execution_count": 5,
   "id": "29a8fee7",
   "metadata": {},
   "outputs": [
    {
     "data": {
      "text/plain": [
       "[<matplotlib.lines.Line2D at 0x7fcebb10b790>]"
      ]
     },
     "execution_count": 5,
     "metadata": {},
     "output_type": "execute_result"
    },
    {
     "data": {
      "image/png": "[encoded data removed]",
      "text/plain": [
       "<Figure size 432x288 with 1 Axes>"
      ]
     },
     "metadata": {
      "needs_background": "light"
     },
     "output_type": "display_data"
    }
   ],
   "source": [
    "plt.plot(price)"
   ]
  },
  {
   "cell_type": "code",
   "execution_count": 6,
   "id": "b9188282",
   "metadata": {},
   "outputs": [
    {
     "data": {
      "text/plain": [
       "[<matplotlib.lines.Line2D at 0x7fcebb1b3190>]"
      ]
     },
     "execution_count": 6,
     "metadata": {},
     "output_type": "execute_result"
    },
    {
     "data": {
      "image/png": "[encoded data removed]",
      "text/plain": [
       "<Figure size 432x288 with 1 Axes>"
      ]
     },
     "metadata": {
      "needs_background": "light"
     },
     "output_type": "display_data"
    }
   ],
   "source": [
    "plt.plot(price1)"
   ]
  },
  {
   "cell_type": "code",
   "execution_count": 7,
   "id": "c5cf8645",
   "metadata": {},
   "outputs": [
    {
     "data": {
      "text/plain": [
       "[<matplotlib.lines.Line2D at 0x7fcebb36a3a0>]"
      ]
     },
     "execution_count": 7,
     "metadata": {},
     "output_type": "execute_result"
    },
    {
     "data": {
      "image/png": "[encoded data removed]",
      "text/plain": [
       "<Figure size 432x288 with 1 Axes>"
      ]
     },
     "metadata": {
      "needs_background": "light"
     },
     "output_type": "display_data"
    }
   ],
   "source": [
    "plt.plot(price3)"
   ]
  },
  {
   "cell_type": "code",
   "execution_count": 8,
   "id": "1d2d5f24",
   "metadata": {},
   "outputs": [],
   "source": [
    "ret = (price[1:]-price[:-1])/price[0:-1]\n",
    "ret1 = (price1[1:]-price1[:-1])/price1[0:-1]\n",
    "ret3 = (price3[1:]-price3[:-1])/price3[0:-1]"
   ]
  },
  {
   "cell_type": "code",
   "execution_count": 9,
   "id": "36956d60",
   "metadata": {},
   "outputs": [
    {
     "data": {
      "text/plain": [
       "(array([   2.,   10.,   36.,  186.,  801., 1379.,  553.,  140.,   31.,\n",
       "           6.]),\n",
       " array([-0.02370232, -0.01927927, -0.01485623, -0.01043318, -0.00601013,\n",
       "        -0.00158708,  0.00283596,  0.00725901,  0.01168206,  0.01610511,\n",
       "         0.02052815]),\n",
       " <BarContainer object of 10 artists>)"
      ]
     },
     "execution_count": 9,
     "metadata": {},
     "output_type": "execute_result"
    },
    {
     "data": {
      "image/png": "[encoded data removed]",
      "text/plain": [
       "<Figure size 432x288 with 1 Axes>"
      ]
     },
     "metadata": {
      "needs_background": "light"
     },
     "output_type": "display_data"
    }
   ],
   "source": [
    "#Dollar index returns histogram\n",
    "plt.hist(ret)"
   ]
  },
  {
   "cell_type": "code",
   "execution_count": 10,
   "id": "50d1ddd7",
   "metadata": {},
   "outputs": [
    {
     "data": {
      "text/plain": [
       "(array([2.00e+00, 1.00e+00, 3.00e+00, 3.70e+01, 3.23e+02, 2.40e+03,\n",
       "        3.52e+02, 1.70e+01, 5.00e+00, 2.00e+00]),\n",
       " array([-0.10942382, -0.0894211 , -0.06941837, -0.04941565, -0.02941292,\n",
       "        -0.0094102 ,  0.01059252,  0.03059525,  0.05059797,  0.0706007 ,\n",
       "         0.09060342]),\n",
       " <BarContainer object of 10 artists>)"
      ]
     },
     "execution_count": 10,
     "metadata": {},
     "output_type": "execute_result"
    },
    {
     "data": {
      "image/png": "[encoded data removed]",
      "text/plain": [
       "<Figure size 432x288 with 1 Axes>"
      ]
     },
     "metadata": {
      "needs_background": "light"
     },
     "output_type": "display_data"
    }
   ],
   "source": [
    "#S&P 500 returns histogram\n",
    "plt.hist(ret1)"
   ]
  },
  {
   "cell_type": "code",
   "execution_count": 11,
   "id": "4d7a89be",
   "metadata": {},
   "outputs": [
    {
     "data": {
      "text/plain": [
       "(array([3.000e+00, 3.000e+00, 5.900e+01, 2.606e+03, 4.560e+02, 9.000e+00,\n",
       "        0.000e+00, 1.000e+00, 1.000e+00, 1.000e+00]),\n",
       " array([-0.29320109, -0.21398118, -0.13476127, -0.05554136,  0.02367855,\n",
       "         0.10289846,  0.18211837,  0.26133828,  0.34055819,  0.4197781 ,\n",
       "         0.49899801]),\n",
       " <BarContainer object of 10 artists>)"
      ]
     },
     "execution_count": 11,
     "metadata": {},
     "output_type": "execute_result"
    },
    {
     "data": {
      "image/png": "[encoded data removed]",
      "text/plain": [
       "<Figure size 432x288 with 1 Axes>"
      ]
     },
     "metadata": {
      "needs_background": "light"
     },
     "output_type": "display_data"
    }
   ],
   "source": [
    "#NASDAQ returns histogram\n",
    "plt.hist(ret3)"
   ]
  },
  {
   "cell_type": "code",
   "execution_count": null,
   "id": "f817112b",
   "metadata": {},
   "outputs": [],
   "source": [
    "#concatenating the whole returns together? maybe not!"
   ]
  },
  {
   "cell_type": "markdown",
   "id": "22e2fbf2",
   "metadata": {},
   "source": [
    "Splitting the dataset! This code will be dynamic since we don't know which timeframes are the best to split and we gotta figure this out on the way by trial and error! One thing I can guarantee is that the timeframe will not be less than 6-months!"
   ]
  },
  {
   "cell_type": "code",
   "execution_count": null,
   "id": "507fbf5d",
   "metadata": {},
   "outputs": [],
   "source": [
    "#Splitting"
   ]
  },
  {
   "cell_type": "markdown",
   "id": "74850dc1",
   "metadata": {},
   "source": [
    "Normality test"
   ]
  },
  {
   "cell_type": "code",
   "execution_count": null,
   "id": "ef98b5ee",
   "metadata": {},
   "outputs": [],
   "source": []
  },
  {
   "cell_type": "code",
   "execution_count": 61,
   "id": "22c514c3",
   "metadata": {
    "scrolled": true
   },
   "outputs": [
    {
     "data": {
      "text/plain": [
       "NormaltestResult(statistic=116.87058209304972, pvalue=4.18673574283375e-26)"
      ]
     },
     "execution_count": 61,
     "metadata": {},
     "output_type": "execute_result"
    }
   ],
   "source": [
    "#normality tests for tickers, normality for US Dollar \n",
    "\n",
    "# note that this test only spits out the p-value for the test! if we do the whole dataset on US dollar, It'll be anything but normal!\n",
    "\n",
    "stats.normaltest(ret)"
   ]
  },
  {
   "cell_type": "code",
   "execution_count": 62,
   "id": "097ed770",
   "metadata": {},
   "outputs": [],
   "source": [
    "# Coniditional independence "
   ]
  },
  {
   "cell_type": "markdown",
   "id": "5cd92539",
   "metadata": {},
   "source": [
    "So far for this section, the only tool that we had cover in the course was the test w.r.t Gaussian dist! But I did some research and there is another test which is available in python, which is essentially called Kernel-based Conditional Independency test! We gotta figure this out too that which one we'll be using!"
   ]
  },
  {
   "cell_type": "code",
   "execution_count": null,
   "id": "48473109",
   "metadata": {},
   "outputs": [],
   "source": []
  }
 ],
 "metadata": {
  "kernelspec": {
   "display_name": "Python 3 (ipykernel)",
   "language": "python",
   "name": "python3"
  },
  "language_info": {
   "codemirror_mode": {
    "name": "ipython",
    "version": 3
   },
   "file_extension": ".py",
   "mimetype": "text/x-python",
   "name": "python",
   "nbconvert_exporter": "python",
   "pygments_lexer": "ipython3",
   "version": "3.9.7"
  }
 },
 "nbformat": 4,
 "nbformat_minor": 5
}
